{
 "cells": [
  {
   "cell_type": "code",
   "execution_count": 1,
   "metadata": {},
   "outputs": [],
   "source": [
    "# Run the following cell to import utilities\n",
    "\n",
    "import numpy as np\n",
    "import time\n",
    "\n",
    "from utils import State, Action, load_data"
   ]
  },
  {
   "cell_type": "code",
   "execution_count": 3,
   "metadata": {},
   "outputs": [],
   "source": [
    "import numpy as np\n",
    "import torch\n",
    "import torch.nn as nn\n",
    "from sklearn.linear_model import LinearRegression\n",
    "from collections import OrderedDict\n",
    "from torch import tensor\n",
    "import time"
   ]
  },
  {
   "cell_type": "code",
   "execution_count": 4,
   "metadata": {},
   "outputs": [],
   "source": [
    "from utilsHJ import localScore"
   ]
  },
  {
   "cell_type": "code",
   "execution_count": 2,
   "metadata": {},
   "outputs": [
    {
     "name": "stdout",
     "output_type": "stream",
     "text": [
      "State(\n",
      "    board=\n",
      "        0 0 0 | 0 0 0 | 0 0 0\n",
      "        0 0 0 | 0 0 0 | 0 0 0\n",
      "        0 0 0 | 1 0 0 | 0 2 0\n",
      "        ---------------------\n",
      "        0 0 0 | 0 0 0 | 0 2 1\n",
      "        0 0 0 | 0 0 2 | 0 1 2\n",
      "        0 0 0 | 0 0 0 | 0 1 0\n",
      "        ---------------------\n",
      "        0 0 0 | 0 0 0 | 0 0 0\n",
      "        0 0 2 | 0 0 1 | 0 0 0\n",
      "        0 0 0 | 0 0 0 | 0 0 0, \n",
      "    local_board_status=\n",
      "        [[0 0 0]\n",
      "         [0 0 0]\n",
      "         [0 0 0]], \n",
      "    prev_local_action=(2, 1), \n",
      "    fill_num=2\n",
      ")\n",
      "\n",
      "Value = -0.005\n",
      "\n",
      "\n",
      "State(\n",
      "    board=\n",
      "        2 1 0 | 0 0 2 | 0 1 2\n",
      "        1 0 0 | 2 0 0 | 2 0 0\n",
      "        2 0 1 | 0 2 2 | 1 0 0\n",
      "        ---------------------\n",
      "        2 0 0 | 1 1 0 | 2 0 0\n",
      "        1 2 1 | 0 0 2 | 0 2 1\n",
      "        2 0 2 | 0 0 0 | 2 2 0\n",
      "        ---------------------\n",
      "        2 1 0 | 1 0 1 | 0 0 1\n",
      "        1 0 1 | 0 0 0 | 0 1 1\n",
      "        0 0 0 | 0 0 2 | 0 1 2, \n",
      "    local_board_status=\n",
      "        [[0 0 0]\n",
      "         [2 0 0]\n",
      "         [0 0 0]], \n",
      "    prev_local_action=(0, 0), \n",
      "    fill_num=1\n",
      ")\n",
      "\n",
      "Value = 0.376\n",
      "\n",
      "\n",
      "State(\n",
      "    board=\n",
      "        0 0 0 | 0 0 0 | 0 0 0\n",
      "        0 0 0 | 0 0 0 | 0 0 0\n",
      "        0 0 0 | 0 0 0 | 0 0 0\n",
      "        ---------------------\n",
      "        0 0 0 | 0 0 0 | 0 1 0\n",
      "        0 0 0 | 0 0 0 | 0 0 0\n",
      "        0 0 0 | 0 0 0 | 0 0 0\n",
      "        ---------------------\n",
      "        0 0 0 | 0 0 0 | 0 0 0\n",
      "        0 0 0 | 0 0 0 | 0 0 0\n",
      "        0 0 0 | 0 0 0 | 0 0 0, \n",
      "    local_board_status=\n",
      "        [[0 0 0]\n",
      "         [0 0 0]\n",
      "         [0 0 0]], \n",
      "    prev_local_action=(0, 1), \n",
      "    fill_num=2\n",
      ")\n",
      "\n",
      "Value = 0.026\n",
      "\n",
      "\n"
     ]
    }
   ],
   "source": [
    "data = load_data()\n",
    "assert len(data) == 80000\n",
    "for state, value in data[:3]:\n",
    "    print(state)\n",
    "    print(f\"Value = {value}\\n\\n\")"
   ]
  },
  {
   "cell_type": "code",
   "execution_count": null,
   "metadata": {},
   "outputs": [],
   "source": [
    "print(localScore(data[0][0].board))"
   ]
  }
 ],
 "metadata": {
  "kernelspec": {
   "display_name": "CS2109",
   "language": "python",
   "name": "python3"
  },
  "language_info": {
   "codemirror_mode": {
    "name": "ipython",
    "version": 3
   },
   "file_extension": ".py",
   "mimetype": "text/x-python",
   "name": "python",
   "nbconvert_exporter": "python",
   "pygments_lexer": "ipython3",
   "version": "3.12.1"
  }
 },
 "nbformat": 4,
 "nbformat_minor": 2
}
