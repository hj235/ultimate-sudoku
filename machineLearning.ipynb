{
 "cells": [
  {
   "cell_type": "code",
   "execution_count": 13,
   "metadata": {},
   "outputs": [],
   "source": [
    "# Run the following cell to import utilities\n",
    "\n",
    "import numpy as np\n",
    "import time\n",
    "\n",
    "from utils import State, Action, load_data"
   ]
  },
  {
   "cell_type": "code",
   "execution_count": 14,
   "metadata": {},
   "outputs": [],
   "source": [
    "import numpy as np\n",
    "import torch\n",
    "import torch.nn as nn\n",
    "from sklearn.linear_model import LinearRegression\n",
    "from collections import OrderedDict\n",
    "from torch import tensor\n",
    "import time"
   ]
  },
  {
   "cell_type": "code",
   "execution_count": 15,
   "metadata": {},
   "outputs": [
    {
     "ename": "ImportError",
     "evalue": "cannot import name 'getLocalScores' from 'utilsHJ' (c:\\Users\\HJ\\Code Projects\\CS2109S\\ultimate-sudoku\\utilsHJ.py)",
     "output_type": "error",
     "traceback": [
      "\u001b[1;31m---------------------------------------------------------------------------\u001b[0m",
      "\u001b[1;31mImportError\u001b[0m                               Traceback (most recent call last)",
      "Cell \u001b[1;32mIn[15], line 2\u001b[0m\n\u001b[0;32m      1\u001b[0m \u001b[38;5;28;01mfrom\u001b[39;00m\u001b[38;5;250m \u001b[39m\u001b[38;5;21;01mutilsHJ\u001b[39;00m\u001b[38;5;250m \u001b[39m\u001b[38;5;28;01mimport\u001b[39;00m localScore\n\u001b[1;32m----> 2\u001b[0m \u001b[38;5;28;01mfrom\u001b[39;00m\u001b[38;5;250m \u001b[39m\u001b[38;5;21;01mtfmData\u001b[39;00m\u001b[38;5;250m \u001b[39m\u001b[38;5;28;01mimport\u001b[39;00m loadData\n",
      "File \u001b[1;32mc:\\Users\\HJ\\Code Projects\\CS2109S\\ultimate-sudoku\\tfmData.py:3\u001b[0m\n\u001b[0;32m      1\u001b[0m \u001b[38;5;28;01mimport\u001b[39;00m\u001b[38;5;250m \u001b[39m\u001b[38;5;21;01mpickle\u001b[39;00m\n\u001b[0;32m      2\u001b[0m \u001b[38;5;28;01mfrom\u001b[39;00m\u001b[38;5;250m \u001b[39m\u001b[38;5;21;01mutils\u001b[39;00m\u001b[38;5;250m \u001b[39m\u001b[38;5;28;01mimport\u001b[39;00m State, load_data\n\u001b[1;32m----> 3\u001b[0m \u001b[38;5;28;01mfrom\u001b[39;00m\u001b[38;5;250m \u001b[39m\u001b[38;5;21;01mutilsHJ\u001b[39;00m\u001b[38;5;250m \u001b[39m\u001b[38;5;28;01mimport\u001b[39;00m getLocalScores\n\u001b[0;32m      4\u001b[0m \u001b[38;5;28;01mimport\u001b[39;00m\u001b[38;5;250m \u001b[39m\u001b[38;5;21;01mnumpy\u001b[39;00m\u001b[38;5;250m \u001b[39m\u001b[38;5;28;01mas\u001b[39;00m\u001b[38;5;250m \u001b[39m\u001b[38;5;21;01mnp\u001b[39;00m\n\u001b[0;32m      6\u001b[0m \u001b[38;5;28;01mdef\u001b[39;00m\u001b[38;5;250m \u001b[39m\u001b[38;5;21mtfmData\u001b[39m(data: \u001b[38;5;28mlist\u001b[39m[\u001b[38;5;28mtuple\u001b[39m[State, \u001b[38;5;28mfloat\u001b[39m]]) \u001b[38;5;241m-\u001b[39m\u001b[38;5;241m>\u001b[39m \u001b[38;5;28mlist\u001b[39m[\u001b[38;5;28mtuple\u001b[39m[\u001b[38;5;28mlist\u001b[39m[\u001b[38;5;28mfloat\u001b[39m], \u001b[38;5;28mfloat\u001b[39m]]:\n",
      "\u001b[1;31mImportError\u001b[0m: cannot import name 'getLocalScores' from 'utilsHJ' (c:\\Users\\HJ\\Code Projects\\CS2109S\\ultimate-sudoku\\utilsHJ.py)"
     ]
    }
   ],
   "source": [
    "from utilsHJ import localScore\n",
    "from tfmData import loadData"
   ]
  },
  {
   "cell_type": "code",
   "execution_count": 2,
   "metadata": {},
   "outputs": [
    {
     "name": "stdout",
     "output_type": "stream",
     "text": [
      "State(\n",
      "    board=\n",
      "        0 0 0 | 0 0 0 | 0 0 0\n",
      "        0 0 0 | 0 0 0 | 0 0 0\n",
      "        0 0 0 | 1 0 0 | 0 2 0\n",
      "        ---------------------\n",
      "        0 0 0 | 0 0 0 | 0 2 1\n",
      "        0 0 0 | 0 0 2 | 0 1 2\n",
      "        0 0 0 | 0 0 0 | 0 1 0\n",
      "        ---------------------\n",
      "        0 0 0 | 0 0 0 | 0 0 0\n",
      "        0 0 2 | 0 0 1 | 0 0 0\n",
      "        0 0 0 | 0 0 0 | 0 0 0, \n",
      "    local_board_status=\n",
      "        [[0 0 0]\n",
      "         [0 0 0]\n",
      "         [0 0 0]], \n",
      "    prev_local_action=(2, 1), \n",
      "    fill_num=2\n",
      ")\n",
      "\n",
      "Value = -0.005\n",
      "\n",
      "\n",
      "State(\n",
      "    board=\n",
      "        2 1 0 | 0 0 2 | 0 1 2\n",
      "        1 0 0 | 2 0 0 | 2 0 0\n",
      "        2 0 1 | 0 2 2 | 1 0 0\n",
      "        ---------------------\n",
      "        2 0 0 | 1 1 0 | 2 0 0\n",
      "        1 2 1 | 0 0 2 | 0 2 1\n",
      "        2 0 2 | 0 0 0 | 2 2 0\n",
      "        ---------------------\n",
      "        2 1 0 | 1 0 1 | 0 0 1\n",
      "        1 0 1 | 0 0 0 | 0 1 1\n",
      "        0 0 0 | 0 0 2 | 0 1 2, \n",
      "    local_board_status=\n",
      "        [[0 0 0]\n",
      "         [2 0 0]\n",
      "         [0 0 0]], \n",
      "    prev_local_action=(0, 0), \n",
      "    fill_num=1\n",
      ")\n",
      "\n",
      "Value = 0.376\n",
      "\n",
      "\n",
      "State(\n",
      "    board=\n",
      "        0 0 0 | 0 0 0 | 0 0 0\n",
      "        0 0 0 | 0 0 0 | 0 0 0\n",
      "        0 0 0 | 0 0 0 | 0 0 0\n",
      "        ---------------------\n",
      "        0 0 0 | 0 0 0 | 0 1 0\n",
      "        0 0 0 | 0 0 0 | 0 0 0\n",
      "        0 0 0 | 0 0 0 | 0 0 0\n",
      "        ---------------------\n",
      "        0 0 0 | 0 0 0 | 0 0 0\n",
      "        0 0 0 | 0 0 0 | 0 0 0\n",
      "        0 0 0 | 0 0 0 | 0 0 0, \n",
      "    local_board_status=\n",
      "        [[0 0 0]\n",
      "         [0 0 0]\n",
      "         [0 0 0]], \n",
      "    prev_local_action=(0, 1), \n",
      "    fill_num=2\n",
      ")\n",
      "\n",
      "Value = 0.026\n",
      "\n",
      "\n"
     ]
    }
   ],
   "source": [
    "data = load_data()\n",
    "assert len(data) == 80000\n",
    "for state, value in data[:3]:\n",
    "    print(state)\n",
    "    print(f\"Value = {value}\\n\\n\")"
   ]
  },
  {
   "cell_type": "code",
   "execution_count": 6,
   "metadata": {},
   "outputs": [
    {
     "ename": "NameError",
     "evalue": "name 'loadData' is not defined",
     "output_type": "error",
     "traceback": [
      "\u001b[1;31m---------------------------------------------------------------------------\u001b[0m",
      "\u001b[1;31mNameError\u001b[0m                                 Traceback (most recent call last)",
      "Cell \u001b[1;32mIn[6], line 1\u001b[0m\n\u001b[1;32m----> 1\u001b[0m transformedData \u001b[38;5;241m=\u001b[39m \u001b[43mloadData\u001b[49m(\u001b[38;5;124m\"\u001b[39m\u001b[38;5;124mtfmData.pkl\u001b[39m\u001b[38;5;124m\"\u001b[39m)\n\u001b[0;32m      2\u001b[0m \u001b[38;5;28mprint\u001b[39m(\u001b[38;5;28mlen\u001b[39m(transformedData))\n\u001b[0;32m      3\u001b[0m \u001b[38;5;28mprint\u001b[39m(transformedData[:\u001b[38;5;241m3\u001b[39m])\n",
      "\u001b[1;31mNameError\u001b[0m: name 'loadData' is not defined"
     ]
    }
   ],
   "source": [
    "transformedData = loadData(\"tfmData.pkl\")\n",
    "print(len(transformedData))\n",
    "print(transformedData[:3])"
   ]
  },
  {
   "cell_type": "code",
   "execution_count": null,
   "metadata": {},
   "outputs": [],
   "source": []
  },
  {
   "cell_type": "code",
   "execution_count": null,
   "metadata": {},
   "outputs": [],
   "source": [
    "print(localScore(data[0][0].board))"
   ]
  }
 ],
 "metadata": {
  "kernelspec": {
   "display_name": "CS2109",
   "language": "python",
   "name": "python3"
  },
  "language_info": {
   "codemirror_mode": {
    "name": "ipython",
    "version": 3
   },
   "file_extension": ".py",
   "mimetype": "text/x-python",
   "name": "python",
   "nbconvert_exporter": "python",
   "pygments_lexer": "ipython3",
   "version": "3.12.1"
  }
 },
 "nbformat": 4,
 "nbformat_minor": 2
}
