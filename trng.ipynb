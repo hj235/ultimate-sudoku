{
 "cells": [
  {
   "cell_type": "code",
   "execution_count": 1,
   "metadata": {},
   "outputs": [],
   "source": [
    "import numpy as np\n",
    "from sklearn.linear_model import LinearRegression, Lasso, Ridge\n",
    "from sklearn.preprocessing import PolynomialFeatures\n",
    "from sklearn.pipeline import make_pipeline\n",
    "from sklearn.svm import SVR\n",
    "from sklearn.model_selection import train_test_split\n",
    "from sklearn.kernel_ridge import KernelRidge\n",
    "from student_mx import StudentAgent, check_board\n",
    "from utils import State, load_data\n",
    "\n",
    "\n",
    "sa = StudentAgent()\n",
    "\n",
    "\n",
    "def cc(state: State):\n",
    "    return sa._prep_feat(state)"
   ]
  },
  {
   "cell_type": "code",
   "execution_count": 2,
   "metadata": {},
   "outputs": [],
   "source": [
    "data = np.array(load_data())\n"
   ]
  },
  {
   "cell_type": "code",
   "execution_count": 3,
   "metadata": {},
   "outputs": [
    {
     "name": "stdout",
     "output_type": "stream",
     "text": [
      "80000\n",
      "80000\n"
     ]
    }
   ],
   "source": [
    "# data = data[(data[:, 1] != 1.0) & (data[:, 1] != -1.0)]\n",
    "# process data\n",
    "y = data[:, 1]\n",
    "\n",
    "input_data = data[:, 0]\n",
    "\n",
    "print(len(input_data))\n",
    "print(len(y))\n",
    "\n",
    "\n",
    "X = []\n",
    "# print(input_data[0])\n",
    "# cc(input_data[35])\n",
    "for i, d in enumerate(input_data):\n",
    "    c = cc(d)\n",
    "    if c is not None:\n",
    "        X.append(c)\n",
    "\n",
    "\n",
    "X = np.array(X)\n",
    "X_train = X\n",
    "X_test = X\n",
    "y_train = y\n",
    "y_test = y"
   ]
  },
  {
   "cell_type": "code",
   "execution_count": 4,
   "metadata": {},
   "outputs": [],
   "source": [
    "X_train, X_test, y_train, y_test = train_test_split(X, y, test_size=0.5, random_state=42)"
   ]
  },
  {
   "cell_type": "code",
   "execution_count": 5,
   "metadata": {},
   "outputs": [
    {
     "name": "stdout",
     "output_type": "stream",
     "text": [
      "[0.0, -0.5506796824975593, -0.5502946764269634, -0.04842365036338041, -0.03981755333689309, -0.3561162207500013, -0.3558946030756974, 0.4164440127255922, 0.4162894509691946, -151048310694.96628, -151048310694.97604, -75524155347.45285, -75524155347.41907, -75524155347.50856, -75524155347.50958, 75524155347.50746, 75524155347.50638, 0.44787733477209424]\n",
      "-0.0033823828125000006\n",
      "Training score:  0.3762862992558009\n",
      "Testing score:  0.37478682700264065\n"
     ]
    },
    {
     "data": {
      "text/plain": [
       "-0.12612408203125"
      ]
     },
     "execution_count": 5,
     "metadata": {},
     "output_type": "execute_result"
    }
   ],
   "source": [
    "# linear\n",
    "\n",
    "model = make_pipeline(PolynomialFeatures(degree=1), LinearRegression())\n",
    "model.fit(X_train, y_train)\n",
    "print(list(map(float, model.named_steps['linearregression'].coef_)))\n",
    "print(model.named_steps['linearregression'].intercept_)\n",
    "print(\"Training score: \", model.score(X, y))\n",
    "print(\"Testing score: \", model.score(X_test, y_test))\n",
    "model.predict(X_test)[0]\n"
   ]
  },
  {
   "cell_type": "code",
   "execution_count": 6,
   "metadata": {},
   "outputs": [
    {
     "name": "stdout",
     "output_type": "stream",
     "text": [
      "[0.0, 0.0, 0.0, 0.14026222184696194, 0.15186872930267484, -0.04863264050439057, -0.04882078204261265, 0.11989099038231507, 0.12050051635223674, 0.0, 0.0, 0.0, 0.0, -0.0, -0.0, 0.005509585010275118, 0.005996729349158741, 0.34435341525159635]\n",
      "0.004093286694365289\n",
      "Training score:  0.3410444100655411\n",
      "Testing score:  0.3382543581364086\n"
     ]
    },
    {
     "data": {
      "text/plain": [
       "-0.1298874482758756"
      ]
     },
     "execution_count": 6,
     "metadata": {},
     "output_type": "execute_result"
    }
   ],
   "source": [
    "# linear lasso\n",
    "\n",
    "model = make_pipeline(PolynomialFeatures(degree=1), Lasso(alpha=0.015))\n",
    "model.fit(X_train, y_train)\n",
    "print(list(map(float, model.named_steps['lasso'].coef_)))\n",
    "print(model.named_steps['lasso'].intercept_)\n",
    "print(\"Training score: \", model.score(X, y))\n",
    "print(\"Testing score: \", model.score(X_test, y_test))\n",
    "model.predict(X_test)[0]\n"
   ]
  },
  {
   "cell_type": "code",
   "execution_count": 7,
   "metadata": {},
   "outputs": [
    {
     "name": "stdout",
     "output_type": "stream",
     "text": [
      "[0.0, -0.547353802053151, -0.5469944621447461, -0.04667451325296134, -0.03787098628353113, -0.35452986010269216, -0.3542421780172831, 0.414845519889931, 0.41464209836615495, 0.0031332396109020814, -0.006312654836338332, 0.03220539742733127, 0.06599559756876897, -0.023575943974456816, -0.02455675093627234, 0.022420259633200944, 0.02128921004285991, 0.44769212478928466]\n",
      "-0.0032484223483114356\n",
      "Training score:  0.376270149099719\n",
      "Testing score:  0.3747521416462092\n"
     ]
    },
    {
     "data": {
      "text/plain": [
       "-0.12603704924264822"
      ]
     },
     "execution_count": 7,
     "metadata": {},
     "output_type": "execute_result"
    }
   ],
   "source": [
    "# linear ridge\n",
    "\n",
    "model = make_pipeline(PolynomialFeatures(degree=1), Ridge(alpha=1.0))\n",
    "model.fit(X_train, y_train)\n",
    "print(list(map(float, model.named_steps['ridge'].coef_)))\n",
    "print(model.named_steps['ridge'].intercept_)\n",
    "print(\"Training score: \", model.score(X, y))\n",
    "print(\"Testing score: \", model.score(X_test, y_test))\n",
    "model.predict(X_test)[0]\n"
   ]
  },
  {
   "cell_type": "code",
   "execution_count": 8,
   "metadata": {},
   "outputs": [
    {
     "name": "stdout",
     "output_type": "stream",
     "text": [
      "[-2.1768265331563333e-16, 2.4547032194530947, 2.6114583941797487, 1.3017931061984946, 1.6770550715178045, 1.1588370199888987, 1.1929180662498613, -1.0851807230209407, -1.1326175221878603, -1195091946.974739, -1195091946.97006, -597545973.3615406, -597545973.4030727, -597545973.5398397, -597545973.523931, 597545973.540983, 597545973.5393794, 0.16619386649614018, -0.1294114005957357, -0.06154865858578614, 0.1772421941117457, -0.3473568338853673, -0.3478561876736227, 0.22722478074515315, -0.14544306342523627, 0.22607530521517927, -937285806.7783021, -937285806.9763647, -468642903.5373237, -468642903.34213716, -468642903.4046698, -468642903.56463563, 468642903.47131723, 468642903.4395789, -0.0493338010865344, 0.09044261283265428, 0.3891223667964864, -0.25631029312611037, -0.280886866040216, 0.3384661689335424, -0.19345975089621606, 0.19560128150955752, -570225680.6746036, -570225680.8594651, -285112840.4723841, -285112840.29929125, -285112840.36130476, -285112840.55213237, 285112840.4128981, 285112840.38401663, -0.13510585535966113, 0.14906684299145012, 0.013114593224166492, -0.009986874654162994, 0.24314992190993068, -0.18093259064430622, -0.03733752703868831, -615819585.1881961, -615819585.326568, -307909792.6758375, -307909792.54615694, -307909792.6560013, -307909792.7422803, 307909792.6528216, 307909792.64762527, -0.13933475765081552, -0.15146717507045007, -0.2921770069160675, 0.028552439828469205, 0.010765190851745932, 0.22669113508009758, 12396547.814295102, 12396547.702839417, 6198273.818736502, 6198273.933397684, 6198273.892526634, 6198273.794678434, -6198273.865974686, -6198273.882503181, 0.03704805407325734, -0.1476224320986026, -0.003408805444353666, 0.05216549342212484, 0.25170746252166454, 1823288317.979119, 1823288317.866011, 911644158.9179486, 911644158.9919678, 911644158.9747665, 911644158.891621, -911644158.9490099, -911644158.9567488, -0.0069734206789965475, 0.15731829640902972, -0.23772703671327522, -0.05137476895061499, 2629577186.7415957, 2629577186.637115, 1314788593.293842, 1314788593.3788762, 1314788593.361163, 1314788593.2650347, -1314788593.3344653, -1314788593.3428562, -0.08553423296559927, 0.09404035965680024, -0.004910978555624168, -981837231.2870431, -981837231.190479, -490918615.57635385, -490918615.65818644, -490918615.63165826, -490918615.55146444, 490918615.60716355, 490918615.61810213, 0.05946446443666058, -0.10549322954696971, -8205578626.3473835, -8205578626.244952, -4102789313.0998197, -4102789313.18901, -4102789313.163565, -4102789313.0713964, 4102789313.135265, 4102789313.1453786, 0.02689562809201372, 5352212328.746338, 4282091425.746148, -8982690946.936567, 3422912034.4379883, 1535971904.654348, 1346798637.742057, -28559259831.825127, 25229109412.54249, 20199000.41053272, -1070120902.9915725, -12193857562.797865, 211745418.59464902, -1675194711.2359347, -1864367978.1091688, -25348093215.920948, 28440276028.42746, 25950269.144353133, -5829398555.651864, -5455995620.634969, -6399465685.530272, -6494052318.970182, -7112178278.058165, 19782006344.126297, 0.0, 373402935.03949535, -196664194.82970077, -291250828.27722716, -13314979768.767218, 13579204853.406742, 0.0, -570067129.8625581, -1234720893.1881447, -12371509703.857594, 14522674918.328339, 0.0, -664653763.306279, -12276923070.400352, 14617261551.770142, 0.0, 12941576833.71886, -1011030954.7455333, 0.0, -13952607788.460255, 0.0, 0.01426352769979158]\n",
      "0.0005772729492187494\n",
      "Training score:  0.42148483632219813\n",
      "Testing score:  0.41836789072196356\n"
     ]
    },
    {
     "data": {
      "text/plain": [
       "-0.15927380126953125"
      ]
     },
     "execution_count": 8,
     "metadata": {},
     "output_type": "execute_result"
    }
   ],
   "source": [
    "# poly: 2\n",
    "\n",
    "polyreg = make_pipeline(PolynomialFeatures(degree=2), LinearRegression())\n",
    "polyreg.fit(X_train, y_train)\n",
    "print(list(map(float, polyreg.named_steps['linearregression'].coef_)))\n",
    "print(polyreg.named_steps['linearregression'].intercept_)\n",
    "print(\"Training score: \", polyreg.score(X, y))\n",
    "print(\"Testing score: \", polyreg.score(X_test, y_test))\n",
    "polyreg.predict(X_test)[0]"
   ]
  },
  {
   "cell_type": "code",
   "execution_count": 9,
   "metadata": {},
   "outputs": [
    {
     "name": "stderr",
     "output_type": "stream",
     "text": [
      "c:\\Users\\HJ\\anaconda3\\envs\\CS2109\\Lib\\site-packages\\sklearn\\linear_model\\_coordinate_descent.py:628: ConvergenceWarning: Objective did not converge. You might want to increase the number of iterations, check the scale of the features or consider increasing regularisation. Duality gap: 3.384e+00, tolerance: 1.453e+00\n",
      "  model = cd_fast.enet_coordinate_descent(\n"
     ]
    },
    {
     "name": "stdout",
     "output_type": "stream",
     "text": [
      "[0.0, -0.0, 0.0, 0.0, 0.0, 0.0, 0.0, 0.00038348681761773246, 0.0017441302850340348, 0.0, 0.0, 0.0, 0.0, -0.0, -0.0, 0.0, 0.0, 0.0, -0.0, 0.0, 0.0, -0.0, -0.0, 0.0, -0.035561780745240766, -0.0, 0.0, 0.0, -0.0, 0.0, 0.0, 0.0, 0.0, 0.0, -0.0, 0.0, 0.0, -0.0, -0.0, 0.0, 0.0, 0.03570332960925603, -0.0, -0.0, -0.0, -0.0, 0.0, -0.0, -0.0, -0.0, 0.0, -0.006067954401166801, -0.0, 0.0, -0.026368286207169772, 0.018442203883242803, 0.0073792864236118805, 0.0, -0.0, 0.0, 0.0, 0.0, -0.0, 0.0, -0.0, -0.0, 0.0019632395232527773, 0.0, -0.0, -0.0011116378075509046, -0.012173568594914317, 0.0, -0.0, -0.0, 0.0, 0.0, -0.0, 0.0, -0.005179961029789218, 0.0, 0.0, -0.0, -0.010599079334009486, 0.023148598921356435, 0.0, -0.0, 0.0, -0.0, 0.0, -0.0, 0.001487509333297201, -8.293894857156174e-05, 0.06204505957468609, 0.0, -0.021140903884731055, 0.009295475553927825, 0.0, 0.0, -0.0, -0.0, 0.0, -0.0, 0.0, 0.0, -0.062475554847971154, 0.02188013407053052, 0.0, 0.0, 0.0, -0.0, 0.0, 0.001876931982909096, -0.0019093641615879175, 0.002234835469132145, 0.0002889861528534777, 0.019615126082180898, -0.02161091946278401, -0.0, 0.0, -0.0, -0.0, 0.0019238581108281536, -0.0014112549868309525, -0.0010531107773298536, -0.002715027316914329, -0.02299061377912598, -0.0004393193196459632, -0.0, 0.0, 0.0, 0.0, -0.0, -0.0018311080914577519, -0.007650561522448522, 0.0, 0.0, 0.0, -0.0, 0.0, 0.0, 0.008767235821387694, 0.002074322709047807, 0.0, -0.0, -0.0, 0.0, -0.0, 0.00899094480617042, -0.0, 0.0, 0.0, 0.0, -0.0, 0.0009597080198715786, -0.009481274552889492, 0.0, -0.0, -0.0, 0.0, 0.0012796084745361133, 0.0, 0.0, -0.00039079033111625455, 9.384712138690548e-05, 0.0, 0.00019822077401116385, 0.0, 0.0, 0.0, 0.0, 0.0]\n",
      "0.002906319027629043\n",
      "Training score:  0.39104931282563726\n",
      "Testing score:  0.3894171616742327\n"
     ]
    },
    {
     "data": {
      "text/plain": [
       "-0.14612458307692372"
      ]
     },
     "execution_count": 9,
     "metadata": {},
     "output_type": "execute_result"
    }
   ],
   "source": [
    "# poly: 2\n",
    "\n",
    "polyreg = make_pipeline(PolynomialFeatures(degree=2), Lasso(alpha=0.01))\n",
    "polyreg.fit(X_train, y_train)\n",
    "print(list(map(float, polyreg.named_steps['lasso'].coef_)))\n",
    "print(polyreg.named_steps['lasso'].intercept_)\n",
    "print(\"Training score: \", polyreg.score(X, y))\n",
    "print(\"Testing score: \", polyreg.score(X_test, y_test))\n",
    "polyreg.predict(X_test)[0]"
   ]
  },
  {
   "cell_type": "code",
   "execution_count": 10,
   "metadata": {},
   "outputs": [],
   "source": [
    "# svm = SVR(kernel=\"rbf\", C=1.0, epsilon=0.2, gamma=\"auto\")\n",
    "# svm.fit(X_train, y_train)\n",
    "# svm.score(X_test, y_test)\n",
    "# print(\"SVM score: \", svm.score(X_test, y_test))\n",
    "# svm.predict(X_test)[0]\n",
    "# # print(\"SVM coef: \", svm.coef_)\n",
    "# # print(\"SVM intercept: \", svm.intercept_)"
   ]
  },
  {
   "cell_type": "code",
   "execution_count": null,
   "metadata": {},
   "outputs": [],
   "source": [
    "kr = KernelRidge(kernel=\"rbf\", alpha=1.0, gamma=0.1)\n",
    "kr.fit(X_train, y_train)\n",
    "print(\"Kernel Ridge score: \", kr.score(X_test, y_test))\n",
    "print(\"Kernel Ridge coef: \", kr.dual_coef_)\n",
    "# print(\"Kernel Ridge intercept: \", kr.intercept_)"
   ]
  }
 ],
 "metadata": {
  "kernelspec": {
   "display_name": "CS2109",
   "language": "python",
   "name": "python3"
  },
  "language_info": {
   "codemirror_mode": {
    "name": "ipython",
    "version": 3
   },
   "file_extension": ".py",
   "mimetype": "text/x-python",
   "name": "python",
   "nbconvert_exporter": "python",
   "pygments_lexer": "ipython3",
   "version": "3.12.1"
  }
 },
 "nbformat": 4,
 "nbformat_minor": 2
}
