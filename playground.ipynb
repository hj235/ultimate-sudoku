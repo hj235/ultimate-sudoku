{
 "cells": [
  {
   "cell_type": "code",
   "execution_count": 14,
   "id": "ea6d97d3",
   "metadata": {},
   "outputs": [],
   "source": [
    "import pickle\n",
    "with open(\"stateCache.pkl\", \"rb\") as f:\n",
    "    data = pickle.load(f)\n",
    "# mem = dict(data)"
   ]
  },
  {
   "cell_type": "code",
   "execution_count": null,
   "id": "a5496402",
   "metadata": {},
   "outputs": [
    {
     "name": "stdout",
     "output_type": "stream",
     "text": [
      "50000\n",
      "[(-2359792049495624234, -0.015722254596868046), (4310729582144605562, -0.24182983225615928), (-3732129412616356311, 0.0865885730279885), (6735162244182352549, 0.18258783577943483), (-1224521476580938044, -0.060705292410382916), (-2350547941854465167, 0.22017236119521644), (-8709104300378748779, -0.16263482820783504), (-1203552936517043101, 0.08728041512750528), (948934235310033075, 0.08964840445449007), (-3364463373586543549, 0.254668092949073)]\n"
     ]
    }
   ],
   "source": [
    "print(len(data))\n",
    "print(data[:10])"
   ]
  }
 ],
 "metadata": {
  "kernelspec": {
   "display_name": "CS2109",
   "language": "python",
   "name": "python3"
  },
  "language_info": {
   "codemirror_mode": {
    "name": "ipython",
    "version": 3
   },
   "file_extension": ".py",
   "mimetype": "text/x-python",
   "name": "python",
   "nbconvert_exporter": "python",
   "pygments_lexer": "ipython3",
   "version": "3.12.1"
  }
 },
 "nbformat": 4,
 "nbformat_minor": 5
}
